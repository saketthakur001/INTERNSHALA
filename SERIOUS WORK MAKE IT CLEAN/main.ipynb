{
 "cells": [
  {
   "cell_type": "code",
   "execution_count": 8,
   "metadata": {},
   "outputs": [
    {
     "data": {
      "text/plain": [
       "True"
      ]
     },
     "execution_count": 8,
     "metadata": {},
     "output_type": "execute_result"
    }
   ],
   "source": [
    "\n",
    "from instagrapi import Client\n",
    "\n",
    "name = 'just_for_image_scraping'\n",
    "password = 'SeG_D4Gp3sp6UwH'\n",
    "password = '4X!v.!EudyvmEZ2'\n",
    "\n",
    "cl = Client()\n",
    "\n",
    "user_id = cl.user_id_from_username(name)\n",
    "medias = cl.user_medias(user_id, 20)\n",
    "\n",
    "# get the dump data\n",
    "cl.load_settings('dump.json')\n",
    "cl.login(name, password)\n"
   ]
  },
  {
   "cell_type": "code",
   "execution_count": 10,
   "metadata": {},
   "outputs": [
    {
     "data": {
      "text/plain": [
       "{'uuids': {'phone_id': '4e86f4bd-c29c-4bb5-9143-0ef7a94919b8',\n",
       "  'uuid': '44f37762-55fc-49e8-88ac-afc05136d244',\n",
       "  'client_session_id': '334d1c68-8c50-4344-b508-ca2b9e72ddf3',\n",
       "  'advertising_id': '2043f98b-bacc-4425-b8ba-063d9a3f7615',\n",
       "  'android_device_id': 'android-86cbf02c5a5c2583',\n",
       "  'request_id': '3cc776e9-8950-41eb-aaa7-a264e03a548a',\n",
       "  'tray_session_id': '9544beae-a3d0-44d2-88c8-4a2cc5b709ff'},\n",
       " 'mid': 'ZNCvZwABAAHiCyd71GnKqpLdHuEG',\n",
       " 'ig_u_rur': None,\n",
       " 'ig_www_claim': None,\n",
       " 'authorization_data': {'ds_user_id': '59585773026',\n",
       "  'sessionid': '59585773026%3AOAA8lJFsKFPFLB%3A5%3AAYcUzhhQg3c1F8QwjWoZ58VMQeLBgjmwuQagtctcOA'},\n",
       " 'cookies': {},\n",
       " 'last_login': 1691398038.289869,\n",
       " 'device_settings': {'app_version': '269.0.0.18.75',\n",
       "  'android_version': 26,\n",
       "  'android_release': '8.0.0',\n",
       "  'dpi': '480dpi',\n",
       "  'resolution': '1080x1920',\n",
       "  'manufacturer': 'OnePlus',\n",
       "  'device': 'devitron',\n",
       "  'model': '6T Dev',\n",
       "  'cpu': 'qcom',\n",
       "  'version_code': '314665256'},\n",
       " 'user_agent': 'Instagram 269.0.0.18.75 Android (26/8.0.0; 480dpi; 1080x1920; OnePlus; 6T Dev; devitron; qcom; en_US; 314665256)',\n",
       " 'country': 'US',\n",
       " 'country_code': 1,\n",
       " 'locale': 'en_US',\n",
       " 'timezone_offset': -14400}"
      ]
     },
     "execution_count": 10,
     "metadata": {},
     "output_type": "execute_result"
    }
   ],
   "source": [
    "cl.get_settings()"
   ]
  },
  {
   "cell_type": "code",
   "execution_count": 11,
   "metadata": {},
   "outputs": [
    {
     "data": {
      "text/plain": [
       "{'pk': '3027862241941113912',\n",
       " 'id': '3027862241941113912_4273886000',\n",
       " 'code': 'CoFIKqvt8w4',\n",
       " 'taken_at': datetime.datetime(2023, 1, 31, 12, 48, 48, tzinfo=datetime.timezone.utc),\n",
       " 'media_type': 1,\n",
       " 'image_versions2': {},\n",
       " 'product_type': '',\n",
       " 'thumbnail_url': HttpUrl('https://instagram.fdel8-1.fna.fbcdn.net/v/t51.2885-15/328244256_1555680471601695_3604951277799089138_n.jpg?stp=dst-jpg_e15_fr_s1080x1080&_nc_ht=instagram.fdel8-1.fna.fbcdn.net&_nc_cat=103&_nc_ohc=Z1KwtHNYoQYAX9d9Ysv&edm=AP_V10EBAAAA&ccb=7-5&oh=00_AfAdyO-jEBsum3K_VoCxYzmfbM8eh27dOBbx7LLfZD1NCg&oe=64D9739D&_nc_sid=2999b8', ),\n",
       " 'location': None,\n",
       " 'user': {'pk': '4273886000',\n",
       "  'username': 'sbicard_connect',\n",
       "  'full_name': 'SBI Card',\n",
       "  'profile_pic_url': HttpUrl('https://instagram.fdel8-2.fna.fbcdn.net/v/t51.2885-19/51455042_637761470011846_532169851251195904_n.jpg?stp=dst-jpg_s150x150&_nc_ht=instagram.fdel8-2.fna.fbcdn.net&_nc_cat=1&_nc_ohc=h43Q-4bsuxEAX_dhSP7&edm=AP_V10EBAAAA&ccb=7-5&oh=00_AfA07OijeyBRXCAelUdEwK-jIwJjKDYKN-lHohmK5QkBAw&oe=64D859C5&_nc_sid=2999b8', ),\n",
       "  'profile_pic_url_hd': None,\n",
       "  'is_private': False,\n",
       "  'stories': []},\n",
       " 'comment_count': 42,\n",
       " 'comments_disabled': False,\n",
       " 'commenting_disabled_for_viewer': False,\n",
       " 'like_count': 724,\n",
       " 'play_count': None,\n",
       " 'has_liked': None,\n",
       " 'caption_text': 'A complimentary Noise ColorFit Pulse 2 Max Smart Watch*, 1 year complimentary FITPASS PRO, and Netmeds First membership*. Get your SBI Card Pulse now!\\n\\nVisit SBI Card website to apply now.\\n\\n*T&C Apply\\n\\n#SBICard #SBICardPulse #Pulse #fitness',\n",
       " 'accessibility_caption': None,\n",
       " 'usertags': [],\n",
       " 'sponsor_tags': [],\n",
       " 'video_url': None,\n",
       " 'view_count': 0,\n",
       " 'video_duration': 0.0,\n",
       " 'title': '',\n",
       " 'resources': [],\n",
       " 'clips_metadata': {}}"
      ]
     },
     "execution_count": 11,
     "metadata": {},
     "output_type": "execute_result"
    }
   ],
   "source": [
    "test_post_id = 'CoFIKqvt8w4'\n",
    "\n",
    "def get_post_data(post_id):\n",
    "    media_pk = cl.media_pk_from_code(post_id)\n",
    "    media_info = cl.media_info(media_pk).dict()\n",
    "    media_comments = cl.media_comments(media_pk).dict()\n",
    "\n",
    "    # Print the media info and comments\n",
    "    print(\"Media Info:\")\n",
    "    print(media_info)\n",
    "    print(\"\\nMedia Comments:\")\n",
    "    print(media_comments)\n",
    "\n",
    "# Call the function with the test_post_id\n",
    "# get_post_data(test_post_id)\n",
    "media_pk = cl.media_pk_from_code(test_post_id)\n",
    "media_info = cl.media_info(media_pk).dict()\n",
    "# media_comments = cl.media_comments(media_pk).dict()\n",
    "media_info"
   ]
  },
  {
   "cell_type": "code",
   "execution_count": 2,
   "metadata": {},
   "outputs": [
    {
     "ename": "TypeError",
     "evalue": "login() missing 2 required positional arguments: 'username' and 'password'",
     "output_type": "error",
     "traceback": [
      "\u001b[1;31m---------------------------------------------------------------------------\u001b[0m",
      "\u001b[1;31mTypeError\u001b[0m                                 Traceback (most recent call last)",
      "\u001b[1;32mc:\\Users\\saket\\Documents\\GitHub\\Pyhton\\INTERNSHALA\\SERIOUS WORK MAKE IT CLEAN\\main.ipynb Cell 2\u001b[0m in \u001b[0;36m<cell line: 4>\u001b[1;34m()\u001b[0m\n\u001b[0;32m      <a href='vscode-notebook-cell:/c%3A/Users/saket/Documents/GitHub/Pyhton/INTERNSHALA/SERIOUS%20WORK%20MAKE%20IT%20CLEAN/main.ipynb#W1sZmlsZQ%3D%3D?line=1'>2</a>\u001b[0m cl \u001b[39m=\u001b[39m Client()\n\u001b[0;32m      <a href='vscode-notebook-cell:/c%3A/Users/saket/Documents/GitHub/Pyhton/INTERNSHALA/SERIOUS%20WORK%20MAKE%20IT%20CLEAN/main.ipynb#W1sZmlsZQ%3D%3D?line=2'>3</a>\u001b[0m cl\u001b[39m.\u001b[39mload_settings(\u001b[39m\"\u001b[39m\u001b[39mdump.json\u001b[39m\u001b[39m\"\u001b[39m)\n\u001b[1;32m----> <a href='vscode-notebook-cell:/c%3A/Users/saket/Documents/GitHub/Pyhton/INTERNSHALA/SERIOUS%20WORK%20MAKE%20IT%20CLEAN/main.ipynb#W1sZmlsZQ%3D%3D?line=3'>4</a>\u001b[0m cl\u001b[39m.\u001b[39;49mlogin()\n",
      "\u001b[1;31mTypeError\u001b[0m: login() missing 2 required positional arguments: 'username' and 'password'"
     ]
    }
   ],
   "source": [
    "# from instagrapi import Client\n",
    "# cl = Client()\n",
    "# cl.load_settings(\"dump.json\")\n",
    "# cl.login()\n"
   ]
  },
  {
   "cell_type": "code",
   "execution_count": 3,
   "metadata": {},
   "outputs": [
    {
     "name": "stdout",
     "output_type": "stream",
     "text": [
      "CoFIKqvt8w4\n",
      "CoE1tNeOIpZ\n",
      "CoC8xFEtfgC\n",
      "Cn3QW2aAzz9\n",
      "Cn1UfiNOQv_\n",
      "CnwSyfhrBXH\n",
      "CnwAvMSJIM4\n",
      "CnoL0woslmg\n",
      "CnlaHaKM6Kt\n",
      "CnhOurRPzie\n",
      "Cnb9s9svECI\n",
      "CnbsTUZs0VX\n",
      "CnbC0JrMVFK\n",
      "CnZM9RfMu2p\n",
      "CnY62vHsLQK\n",
      "CnYdR07PXcp\n",
      "CnWkx8FD6up\n",
      "CnT80oKpP8e\n",
      "Cm6VYwWtw6q\n",
      "Cm3FdELpilw\n",
      "CmyITeiMG4j\n",
      "Cmq5DXZvoMj\n",
      "CmnrYyaMZhP\n",
      "Cmj6AisSvTS\n",
      "CmjsiO9yMhC\n",
      "CmjMiN6rW6w\n",
      "Cmi3HpSOSFh\n",
      "CmilC5OLkAR\n",
      "CmgWmznMT1D\n",
      "CmgAtYgpzro\n",
      "CmbQvt7Mn5m\n",
      "CmWRfsPubUz\n",
      "CmWE08XNXBa\n",
      "CmOAzr3MzBT\n",
      "CmLna7ogDGw\n",
      "CmLhs5ZvSNp\n",
      "CmGycotNdk5\n",
      "CmDlxBDP2nZ\n",
      "Cl55XGvv9Un\n",
      "Cl5k2vTs2fz\n",
      "ClyYLp2scqP\n",
      "ClyPSrEM0yj\n",
      "ClitgpNNwKl\n",
      "ClVUL7pMgGi\n",
      "ClA8R3mMup2\n",
      "Ck8MkmQsfow\n",
      "CkxelkBM4FA\n"
     ]
    }
   ],
   "source": [
    "import os\n",
    "import re\n",
    "\n",
    "company = 'sbi'\n",
    "\n",
    "# Open the HTML file and read its content\n",
    "with open(f'companies_profile_HTML\\\\{company}.html', 'r', encoding='utf-8') as hdfc:\n",
    "    content = hdfc.read()\n",
    "\n",
    "# Use regex to find all patterns\n",
    "pattern = r'href=\"/p/([\\w\\d]+)/\"'\n",
    "matches = re.findall(pattern, content)\n",
    "\n",
    "# Check if directory exists, and create if not\n",
    "output_dir = 'post_ids'\n",
    "if not os.path.exists(output_dir):\n",
    "    os.makedirs(output_dir)\n",
    "\n",
    "# Save matches to a file\n",
    "for match in matches:\n",
    "    print(match)\n"
   ]
  },
  {
   "cell_type": "code",
   "execution_count": 4,
   "metadata": {},
   "outputs": [],
   "source": [
    "test_post_id = 'CoFIKqvt8w4'\n",
    "\n",
    "def get_post_data(post_id):\n",
    "    media_pk = cl.media_pk_from_code(post_id)  # Use the post_id argument instead of the test_post_id\n",
    "    media_info = cl.media_info(media_pk).dict()\n",
    "    media_comments = cl.media_comments(media_pk).dict()\n",
    "\n",
    "    # Print the media info and comments\n",
    "    print(\"Media Info:\")\n",
    "    print(media_info)\n",
    "    print(\"\\nMedia Comments:\")\n",
    "    print(media_comments)\n",
    "\n",
    "# Call the function with the test_post_id\n",
    "get_post_data(test_post_id)\n"
   ]
  }
 ],
 "metadata": {
  "kernelspec": {
   "display_name": "base",
   "language": "python",
   "name": "python3"
  },
  "language_info": {
   "codemirror_mode": {
    "name": "ipython",
    "version": 3
   },
   "file_extension": ".py",
   "mimetype": "text/x-python",
   "name": "python",
   "nbconvert_exporter": "python",
   "pygments_lexer": "ipython3",
   "version": "3.9.12"
  },
  "orig_nbformat": 4
 },
 "nbformat": 4,
 "nbformat_minor": 2
}
