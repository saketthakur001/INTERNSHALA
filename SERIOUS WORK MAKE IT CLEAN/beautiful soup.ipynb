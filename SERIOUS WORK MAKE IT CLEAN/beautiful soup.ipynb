{
 "cells": [
  {
   "cell_type": "code",
   "execution_count": 3,
   "metadata": {},
   "outputs": [],
   "source": [
    "from bs4 import BeautifulSoup\n",
    "\n",
    "with open('hdfc.html', 'r', encoding='utf-8') as hdfc:\n",
    "    soup = BeautifulSoup(hdfc.read(), 'html.parser')"
   ]
  },
  {
   "cell_type": "code",
   "execution_count": 9,
   "metadata": {},
   "outputs": [],
   "source": [
    "hdfc = open('hdfc.html')"
   ]
  },
  {
   "cell_type": "code",
   "execution_count": null,
   "metadata": {},
   "outputs": [],
   "source": []
  },
  {
   "cell_type": "code",
   "execution_count": 23,
   "metadata": {},
   "outputs": [
    {
     "name": "stdout",
     "output_type": "stream",
     "text": [
      "CoFIKqvt8w4\n",
      "CoE1tNeOIpZ\n",
      "CoC8xFEtfgC\n",
      "Cn3QW2aAzz9\n",
      "Cn1UfiNOQv_\n",
      "CnwSyfhrBXH\n",
      "CnwAvMSJIM4\n",
      "CnoL0woslmg\n",
      "CnlaHaKM6Kt\n",
      "CnhOurRPzie\n",
      "Cnb9s9svECI\n",
      "CnbsTUZs0VX\n",
      "CnbC0JrMVFK\n",
      "CnZM9RfMu2p\n",
      "CnY62vHsLQK\n",
      "CnYdR07PXcp\n",
      "CnWkx8FD6up\n",
      "CnT80oKpP8e\n",
      "Cm6VYwWtw6q\n",
      "Cm3FdELpilw\n",
      "CmyITeiMG4j\n",
      "Cmq5DXZvoMj\n",
      "CmnrYyaMZhP\n",
      "Cmj6AisSvTS\n",
      "CmjsiO9yMhC\n",
      "CmjMiN6rW6w\n",
      "Cmi3HpSOSFh\n",
      "CmilC5OLkAR\n",
      "CmgWmznMT1D\n",
      "CmgAtYgpzro\n",
      "CmbQvt7Mn5m\n",
      "CmWRfsPubUz\n",
      "CmWE08XNXBa\n",
      "CmOAzr3MzBT\n",
      "CmLna7ogDGw\n",
      "CmLhs5ZvSNp\n",
      "CmGycotNdk5\n",
      "CmDlxBDP2nZ\n",
      "Cl55XGvv9Un\n",
      "Cl5k2vTs2fz\n",
      "ClyYLp2scqP\n",
      "ClyPSrEM0yj\n",
      "ClitgpNNwKl\n",
      "ClVUL7pMgGi\n",
      "ClA8R3mMup2\n",
      "Ck8MkmQsfow\n",
      "CkxelkBM4FA\n"
     ]
    }
   ],
   "source": [
    "import os\n",
    "import re\n",
    "\n",
    "company = 'sbi'\n",
    "\n",
    "# Open the HTML file and read its content\n",
    "with open(f'companies_profile_HTML\\\\{company}.html', 'r', encoding='utf-8') as hdfc:\n",
    "    content = hdfc.read()\n",
    "\n",
    "# Use regex to find all patterns\n",
    "pattern = r'href=\"/p/([\\w\\d]+)/\"'\n",
    "matches = re.findall(pattern, content)\n",
    "\n",
    "# Check if directory exists, and create if not\n",
    "output_dir = 'post_ids'\n",
    "if not os.path.exists(output_dir):\n",
    "    os.makedirs(output_dir)\n",
    "\n",
    "# Save matches to a file\n",
    "with open(f'{output_dir}\\\\{company}.txt', 'w', encoding='utf-8') as output_file:\n",
    "    for match in matches:\n",
    "        output_file.write(match + '\\n')\n",
    "        print(match)\n"
   ]
  },
  {
   "cell_type": "code",
   "execution_count": 5,
   "metadata": {},
   "outputs": [
    {
     "data": {
      "text/plain": [
       "[]"
      ]
     },
     "execution_count": 5,
     "metadata": {},
     "output_type": "execute_result"
    }
   ],
   "source": []
  }
 ],
 "metadata": {
  "kernelspec": {
   "display_name": "base",
   "language": "python",
   "name": "python3"
  },
  "language_info": {
   "codemirror_mode": {
    "name": "ipython",
    "version": 3
   },
   "file_extension": ".py",
   "mimetype": "text/x-python",
   "name": "python",
   "nbconvert_exporter": "python",
   "pygments_lexer": "ipython3",
   "version": "3.9.12"
  },
  "orig_nbformat": 4
 },
 "nbformat": 4,
 "nbformat_minor": 2
}
